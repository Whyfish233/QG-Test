{
 "cells": [
  {
   "cell_type": "code",
   "execution_count": 22,
   "metadata": {
    "scrolled": true
   },
   "outputs": [],
   "source": [
    "import numpy as np\n",
    "from sklearn import datasets\n",
    "boston = datasets.load_boston()#从sklearn的数据库输入load_boston的数据"
   ]
  },
  {
   "cell_type": "markdown",
   "metadata": {},
   "source": [
    "## 数据集说明\n",
    "波士顿房价数据集包含506个样本，每个样本有14个属性。这些属性包括：\n",
    "- CRIM：城镇人均犯罪率\n",
    "- ZN：占地面积超过25,000平方英尺的住宅用地比例\n",
    "- INDUS：城镇非零售业务地区的比例\n",
    "- CHAS：查尔斯河虚拟变量（如果临河为1，否则为0）\n",
    "- NOX：一氧化氮浓度（每千万分之一）\n",
    "- RM：住宅平均房间数\n",
    "- AGE：1940年以前建成的自住单位比例\n",
    "- DIS：到波士顿五个就业中心的加权距离\n",
    "- RAD：径向公路的可达性指数\n",
    "- TAX：每10,000美元的全额物业税率\n",
    "- PTRATIO：城镇师生比例\n",
    "- B：1000(Bk - 0.63)^2，其中Bk是城镇黑人比例\n",
    "- LSTAT：人口中地位较低人群的百分比\n",
    "- MEDV：自住房屋的中位数价值（单位：千美元）"
   ]
  },
  {
   "cell_type": "markdown",
   "metadata": {},
   "source": [
    "### 加载数据并划分训练集/测试集"
   ]
  },
  {
   "cell_type": "code",
   "execution_count": 9,
   "metadata": {},
   "outputs": [],
   "source": [
    "x,y=boston.data,boston.target #x是特征（自变量）(二维数组,有样本数和特征数)，y是预测值（因变量）\n",
    "\n",
    "np.random.seed(42)            #设置了随机数生成的种子（想象一下我的世界的种子），确保每次运行代码时生成的随机数序列都是相同的\n",
    "indices=np.random.permutation(len(x)) #会生成一个 0 到 len(X)-1 的整数数组，并且打乱这些整数的顺序，但x为二维数组，他只进行行打乱\n",
    "train_size=int(0.7*len(x))    #计算训练集的大小\n",
    "x_train,x_test=x[indices[:train_size]],x[indices[train_size:]] #根据 indices 列表的顺序来划分 X（特征数据）为训练集和测试集。\n",
    "y_train,y_test=y[indices[:train_size]],y[indices[train_size:]] #根据 indices 列表的顺序来划分 Y（房价值）为训练集和测试集。"
   ]
  },
  {
   "cell_type": "code",
   "execution_count": 10,
   "metadata": {},
   "outputs": [],
   "source": [
    "# 计算训练集的均值和标准差\n",
    "mean = x_train.mean(axis=0)\n",
    "std = x_train.std(axis=0)\n",
    "\n",
    "# 特征缩放训练集和测试集(Z-Score 归一化)\n",
    "x_train_scaled=(x_train-mean)/std\n",
    "x_test_scaled =(x_test - mean)/std\n",
    "\n",
    "# 加一列常数β\n",
    "x_train_final=np.hstack([np.ones((x_train_scaled.shape[0],1)),x_train_scaled])\n",
    "x_test_final=np.hstack([np.ones((x_test_scaled.shape[0],1)),x_test_scaled])"
   ]
  },
  {
   "cell_type": "markdown",
   "metadata": {},
   "source": [
    "### 实现多元线性回归类"
   ]
  },
  {
   "cell_type": "code",
   "execution_count": 19,
   "metadata": {},
   "outputs": [],
   "source": [
    "class LinearRegression:\n",
    "    def __init__(self,learning_rate=0.01,max_iteration=1000,tol=1e-4):\n",
    "        self.learning_rate=learning_rate\n",
    "        self.max_iteration=max_iteration\n",
    "        self.tol=tol\n",
    "        self.theta=None\n",
    "        self.loss_history=[]\n",
    "        \n",
    "    def fit(self,x,y):\n",
    "        m,n=x.shape\n",
    "        self.theta=np.zeros(n)\n",
    "        for _ in range(self.max_iteration):\n",
    "            y_pred=x @ self.theta\n",
    "            error=y_pred-y\n",
    "            loss=(error**2).mean()\n",
    "            self.loss_history.append(loss)\n",
    "                \n",
    "            gradient=(x.T @ error)/m\n",
    "                \n",
    "            self.theta-=self.learning_rate*gradient\n",
    "                \n",
    "            if len(self.loss_history)>1 and abs(self.loss_history[-2]-self.loss_history[-1])<self.tol:\n",
    "                break\n",
    "        return self\n",
    "    def predict(self,x):\n",
    "        return x @ self.theta\n",
    "    \n",
    "    def score(self,x,y):\n",
    "        y_pred=self.predict(x)\n",
    "        ss_res=((y-y_pred)**2).sum()\n",
    "        ss_tot=((y-y.mean())**2).sum()\n",
    "        return 1-(ss_res/ss_tot)"
   ]
  },
  {
   "cell_type": "markdown",
   "metadata": {},
   "source": [
    "### 模型训练与评估"
   ]
  },
  {
   "cell_type": "code",
   "execution_count": 20,
   "metadata": {
    "scrolled": false
   },
   "outputs": [
    {
     "name": "stdout",
     "output_type": "stream",
     "text": [
      "梯度下降测试集R²分数: 0.7272\n"
     ]
    }
   ],
   "source": [
    "# 使用梯度下降训练模型\n",
    "model_gradient = LinearRegression(learning_rate=0.01, max_iteration=10000, tol=1e-6)\n",
    "model_gradient.fit(x_train_final, y_train)\n",
    "print(f\"梯度下降测试集R²分数: {model_gradient.score(x_test_final, y_test):.4f}\")  "
   ]
  },
  {
   "cell_type": "code",
   "execution_count": 18,
   "metadata": {
    "scrolled": true
   },
   "outputs": [
    {
     "data": {
      "image/png": "[encoded data removed]",
      "text/plain": [
       "<Figure size 432x288 with 1 Axes>"
      ]
     },
     "metadata": {
      "needs_background": "light"
     },
     "output_type": "display_data"
    }
   ],
   "source": [
    "import matplotlib.pyplot as plt\n",
    "plt.plot(model_gradient.loss_history)\n",
    "plt.xlabel(\"Iteration\")\n",
    "plt.ylabel(\"MSE Loss\")\n",
    "plt.title(\"Gradient Descent Loss Convergence\")\n",
    "plt.show()"
   ]
  },
  {
   "cell_type": "code",
   "execution_count": null,
   "metadata": {},
   "outputs": [],
   "source": [
    "#从每一个特征（自变量，即除了MEDV）搞一副散点图\n",
    "for feature in boston.columns[:-1]:\n",
    "    # 创建图形和坐标轴\n",
    "    plt.figure(figsize=(10, 6))\n",
    "    plt.scatter(boston[feature], boston['MEDV'], color='red', label=f'{feature} vs MEDV')\n",
    "    plt.title(f'{feature} vs MEDV', fontsize=14)\n",
    "    plt.xlabel(f'{feature}', fontsize=12)\n",
    "    plt.ylabel('MEDV', fontsize=12)\n",
    "    plt.legend()\n",
    "    plt.grid(True)\n",
    "    plt.show()"
   ]
  },
  {
   "cell_type": "code",
   "execution_count": 5,
   "metadata": {},
   "outputs": [
    {
     "name": "stdout",
     "output_type": "stream",
     "text": [
      "      CRIM    ZN  INDUS  CHAS    NOX     RM   AGE     DIS  RAD  TAX  PIRATIO  \\\n",
      "0  0.00632  18.0   2.31     0  0.538  6.575  65.2  4.0900    1  296     15.3   \n",
      "1  0.02731   0.0   7.07     0  0.469  6.421  78.9  4.9671    2  242     17.8   \n",
      "2  0.02729   0.0   7.07     0  0.469  7.185  61.1  4.9671    2  242     17.8   \n",
      "3  0.03237   0.0   2.18     0  0.458  6.998  45.8  6.0622    3  222     18.7   \n",
      "4  0.06905   0.0   2.18     0  0.458  7.147  54.2  6.0622    3  222     18.7   \n",
      "\n",
      "        B  LSTAT  MEDV  \n",
      "0  396.90   4.98  24.0  \n",
      "1  396.90   9.14  21.6  \n",
      "2  392.83   4.03  34.7  \n",
      "3  394.63   2.94  33.4  \n",
      "4  396.90   5.33  36.2  \n",
      "******************************************************\n",
      "<class 'pandas.core.frame.DataFrame'>\n",
      "RangeIndex: 506 entries, 0 to 505\n",
      "Data columns (total 14 columns):\n",
      " #   Column   Non-Null Count  Dtype  \n",
      "---  ------   --------------  -----  \n",
      " 0   CRIM     506 non-null    float64\n",
      " 1   ZN       506 non-null    float64\n",
      " 2   INDUS    506 non-null    float64\n",
      " 3   CHAS     506 non-null    int64  \n",
      " 4   NOX      506 non-null    float64\n",
      " 5   RM       506 non-null    float64\n",
      " 6   AGE      506 non-null    float64\n",
      " 7   DIS      506 non-null    float64\n",
      " 8   RAD      506 non-null    int64  \n",
      " 9   TAX      506 non-null    int64  \n",
      " 10  PIRATIO  506 non-null    float64\n",
      " 11  B        506 non-null    float64\n",
      " 12  LSTAT    506 non-null    float64\n",
      " 13  MEDV     506 non-null    float64\n",
      "dtypes: float64(11), int64(3)\n",
      "memory usage: 55.5 KB\n",
      "None\n",
      "******************************************************\n",
      "             CRIM          ZN       INDUS        CHAS         NOX          RM  \\\n",
      "count  506.000000  506.000000  506.000000  506.000000  506.000000  506.000000   \n",
      "mean     3.613524   11.363636   11.136779    0.069170    0.554695    6.284634   \n",
      "std      8.601545   23.322453    6.860353    0.253994    0.115878    0.702617   \n",
      "min      0.006320    0.000000    0.460000    0.000000    0.385000    3.561000   \n",
      "25%      0.082045    0.000000    5.190000    0.000000    0.449000    5.885500   \n",
      "50%      0.256510    0.000000    9.690000    0.000000    0.538000    6.208500   \n",
      "75%      3.677082   12.500000   18.100000    0.000000    0.624000    6.623500   \n",
      "max     88.976200  100.000000   27.740000    1.000000    0.871000    8.780000   \n",
      "\n",
      "              AGE         DIS         RAD         TAX     PIRATIO           B  \\\n",
      "count  506.000000  506.000000  506.000000  506.000000  506.000000  506.000000   \n",
      "mean    68.574901    3.795043    9.549407  408.237154   18.455534  356.674032   \n",
      "std     28.148861    2.105710    8.707259  168.537116    2.164946   91.294864   \n",
      "min      2.900000    1.129600    1.000000  187.000000   12.600000    0.320000   \n",
      "25%     45.025000    2.100175    4.000000  279.000000   17.400000  375.377500   \n",
      "50%     77.500000    3.207450    5.000000  330.000000   19.050000  391.440000   \n",
      "75%     94.075000    5.188425   24.000000  666.000000   20.200000  396.225000   \n",
      "max    100.000000   12.126500   24.000000  711.000000   22.000000  396.900000   \n",
      "\n",
      "            LSTAT        MEDV  \n",
      "count  506.000000  506.000000  \n",
      "mean    12.653063   22.532806  \n",
      "std      7.141062    9.197104  \n",
      "min      1.730000    5.000000  \n",
      "25%      6.950000   17.025000  \n",
      "50%     11.360000   21.200000  \n",
      "75%     16.955000   25.000000  \n",
      "max     37.970000   50.000000  \n"
     ]
    }
   ],
   "source": [
    "import pandas as pd\n",
    "import numpy as np\n",
    "import matplotlib.pyplot as plt\n",
    "# 读取波士顿房价数据集\n",
    "boston = pd.read_csv(\"boston.csv\") \n",
    "\n",
    "# 查看数据集的前5行\n",
    "print(boston.head())\n",
    "print(\"******************************************************\")#我是分割线\n",
    "# 查看数据集的基本信息（可用于检测是否有空值/数值类型为多少）\n",
    "print(boston.info())\n",
    "print(\"******************************************************\")#我也是分割线\n",
    "# 查看数据集的统计描述\n",
    "print(boston.describe())"
   ]
  },
  {
   "cell_type": "code",
   "execution_count": 6,
   "metadata": {
    "scrolled": false
   },
   "outputs": [
    {
     "data": {
      "image/png": "[encoded data removed]",
      "text/plain": [
       "<Figure size 432x288 with 1 Axes>"
      ]
     },
     "metadata": {
      "needs_background": "light"
     },
     "output_type": "display_data"
    }
   ],
   "source": []
  },
  {
   "cell_type": "code",
   "execution_count": null,
   "metadata": {},
   "outputs": [],
   "source": [
    "# 随机抽取训练集\n",
    "x_train = x.sample(frac=1 - test_size, random_state=42)\n",
    "\n",
    "# 剩余数据作为测试集\n",
    "x_test = x.drop(x_train.index)\n",
    "\n",
    "# 对应的目标变量也要进行类似的划分\n",
    "y_train = y[x_train.index]\n",
    "y_test = y[x_test.index]"
   ]
  }
 ],
 "metadata": {
  "kernelspec": {
   "display_name": "Python 3",
   "language": "python",
   "name": "python3"
  },
  "language_info": {
   "codemirror_mode": {
    "name": "ipython",
    "version": 3
   },
   "file_extension": ".py",
   "mimetype": "text/x-python",
   "name": "python",
   "nbconvert_exporter": "python",
   "pygments_lexer": "ipython3",
   "version": "3.7.6"
  }
 },
 "nbformat": 4,
 "nbformat_minor": 4
}
