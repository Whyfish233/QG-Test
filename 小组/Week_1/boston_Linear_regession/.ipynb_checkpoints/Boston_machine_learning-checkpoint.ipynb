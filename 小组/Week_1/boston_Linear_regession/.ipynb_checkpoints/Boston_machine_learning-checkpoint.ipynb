{
 "cells": [
  {
   "cell_type": "code",
   "execution_count": 3,
   "metadata": {
    "scrolled": true
   },
   "outputs": [],
   "source": [
    "import numpy as np\n",
    "from sklearn import datasets\n",
    "boston = datasets.load_boston()#从sklearn的数据库输入load_boston的数据"
   ]
  },
  {
   "cell_type": "markdown",
   "metadata": {},
   "source": [
    "## 数据集说明\n",
    "波士顿房价数据集包含506个样本，每个样本有14个属性。这些属性包括：\n",
    "- CRIM：城镇人均犯罪率\n",
    "- ZN：占地面积超过25,000平方英尺的住宅用地比例\n",
    "- INDUS：城镇非零售业务地区的比例\n",
    "- CHAS：查尔斯河虚拟变量（如果临河为1，否则为0）\n",
    "- NOX：一氧化氮浓度（每千万分之一）\n",
    "- RM：住宅平均房间数\n",
    "- AGE：1940年以前建成的自住单位比例\n",
    "- DIS：到波士顿五个就业中心的加权距离\n",
    "- RAD：径向公路的可达性指数\n",
    "- TAX：每10,000美元的全额物业税率\n",
    "- PTRATIO：城镇师生比例\n",
    "- B：1000(Bk - 0.63)^2，其中Bk是城镇黑人比例\n",
    "- LSTAT：人口中地位较低人群的百分比\n",
    "- MEDV：自住房屋的中位数价值（单位：千美元）"
   ]
  },
  {
   "cell_type": "markdown",
   "metadata": {},
   "source": [
    "### 加载数据并划分训练集/测试集"
   ]
  },
  {
   "cell_type": "code",
   "execution_count": 4,
   "metadata": {},
   "outputs": [],
   "source": [
    "x,y=boston.data,boston.target #x是特征（自变量）(二维数组,有样本数和特征数)，y是预测值（因变量）\n",
    "\n",
    "np.random.seed(42)            #设置了随机数生成的种子（想象一下我的世界的种子），确保每次运行代码时生成的随机数序列都是相同的\n",
    "indices=np.random.permutation(len(x)) #会生成一个 0 到 len(X)-1 的整数数组，并且打乱这些整数的顺序，但x为二维数组，他只进行行打乱\n",
    "train_size=int(0.7*len(x))    #计算训练集的大小\n",
    "x_train,x_test=x[indices[:train_size]],x[indices[train_size:]] #根据 indices 列表的顺序来划分 X（特征数据）为训练集和测试集。\n",
    "y_train,y_test=y[indices[:train_size]],y[indices[train_size:]] #根据 indices 列表的顺序来划分 Y（房价值）为训练集和测试集。"
   ]
  },
  {
   "cell_type": "code",
   "execution_count": 5,
   "metadata": {},
   "outputs": [],
   "source": [
    "# 计算训练集的均值和标准差\n",
    "mean = x_train.mean(axis=0)\n",
    "std = x_train.std(axis=0)\n",
    "\n",
    "# 特征缩放训练集和测试集(Z-Score 归一化)\n",
    "x_train_scaled=(x_train-mean)/std\n",
    "x_test_scaled =(x_test - mean)/std\n",
    "\n",
    "# 加一列常数β\n",
    "x_train_final=np.hstack([np.ones((x_train_scaled.shape[0],1)),x_train_scaled])\n",
    "x_test_final=np.hstack([np.ones((x_test_scaled.shape[0],1)),x_test_scaled])"
   ]
  },
  {
   "cell_type": "markdown",
   "metadata": {},
   "source": [
    "### 实现多元线性回归类"
   ]
  },
  {
   "cell_type": "code",
   "execution_count": 13,
   "metadata": {},
   "outputs": [],
   "source": [
    "class LinearRegression:\n",
    "    def __init__(self,learning_rate=0.01,max_iteration=1000,tol=1e-4):\n",
    "        self.learning_rate=learning_rate\n",
    "        self.max_iteration=max_iteration\n",
    "        self.tol=tol\n",
    "        self.theta=None\n",
    "        self.loss_history=[]\n",
    "        \n",
    "    #在训练集中实现梯度下降\n",
    "    def fit(self,x,y):\n",
    "        m,n=x.shape\n",
    "        self.theta=np.zeros(n)\n",
    "        for _ in range(self.max_iteration):\n",
    "            y_pred=x @ self.theta\n",
    "            error=y_pred-y\n",
    "            loss=(error**2).mean()\n",
    "            self.loss_history.append(loss)\n",
    "                \n",
    "            gradient=(x.T @ error)/m\n",
    "                \n",
    "            self.theta-=self.learning_rate*gradient\n",
    "                \n",
    "            if len(self.loss_history)>1 and abs(self.loss_history[-2]-self.loss_history[-1])<self.tol:\n",
    "                break\n",
    "        return self\n",
    "    #在验证集中测试观察迭代性能\n",
    "    def predict(self,x):\n",
    "        return x @ self.theta\n",
    "    #用R方评估\n",
    "    def score(self,x,y):\n",
    "        y_pred=self.predict(x)\n",
    "        ss_res=((y-y_pred)**2).sum()\n",
    "        ss_tot=((y-y.mean())**2).sum()\n",
    "        return 1-(ss_res/ss_tot)\n",
    "    #用MSE评估\n",
    "    def mse(self,x,y):\n",
    "        m=len(y)\n",
    "        y_pred=self.predict(x)\n",
    "        Loss1=((y-y_pred)**2).sum()\n",
    "        MSE=Loss1/m\n",
    "        return MSE"
   ]
  },
  {
   "cell_type": "markdown",
   "metadata": {},
   "source": [
    "### 模型训练与评估"
   ]
  },
  {
   "cell_type": "code",
   "execution_count": 17,
   "metadata": {
    "scrolled": false
   },
   "outputs": [
    {
     "name": "stdout",
     "output_type": "stream",
     "text": [
      "梯度下降测试集R²分数: 0.7272\n",
      "最小二乘法测试集MSE分数: 22.0702\n"
     ]
    }
   ],
   "source": [
    "# 使用梯度下降训练模型\n",
    "model_gradient = LinearRegression(learning_rate=0.01, max_iteration=10000, tol=1e-6)\n",
    "model_gradient.fit(x_train_final, y_train)\n",
    "print(f\"梯度下降测试集R²分数: {model_gradient.score(x_test_final, y_test):.4f}\")\n",
    "print(f\"最小二乘法测试集MSE分数: {model2.mse(x_test_final, y_test):.4f}\") "
   ]
  },
  {
   "cell_type": "code",
   "execution_count": 9,
   "metadata": {
    "scrolled": true
   },
   "outputs": [
    {
     "data": {
      "image/png": "[encoded data removed]",
      "text/plain": [
       "<Figure size 432x288 with 1 Axes>"
      ]
     },
     "metadata": {
      "needs_background": "light"
     },
     "output_type": "display_data"
    }
   ],
   "source": [
    "#创建关于使用梯度下降的Loss图像\n",
    "import matplotlib.pyplot as plt\n",
    "plt.plot(model_gradient.loss_history)\n",
    "plt.xlabel(\"Iteration\")\n",
    "plt.ylabel(\"MSE Loss\")\n",
    "plt.title(\"Gradient Descent Loss Convergence\")\n",
    "plt.show()"
   ]
  }
 ],
 "metadata": {
  "kernelspec": {
   "display_name": "Python 3",
   "language": "python",
   "name": "python3"
  },
  "language_info": {
   "codemirror_mode": {
    "name": "ipython",
    "version": 3
   },
   "file_extension": ".py",
   "mimetype": "text/x-python",
   "name": "python",
   "nbconvert_exporter": "python",
   "pygments_lexer": "ipython3",
   "version": "3.7.6"
  }
 },
 "nbformat": 4,
 "nbformat_minor": 4
}
